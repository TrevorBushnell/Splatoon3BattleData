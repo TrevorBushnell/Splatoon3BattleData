{
 "cells": [
  {
   "attachments": {},
   "cell_type": "markdown",
   "metadata": {},
   "source": [
    "# Data Cleaning Playground Notebook\n",
    "\n",
    "This notebook contains random code snippets, thoughts, and ideas for cleaning up the data related to my Splatoon 3 battle data.\n",
    "\n",
    "## Package Imports and Set Up"
   ]
  },
  {
   "cell_type": "code",
   "execution_count": 50,
   "metadata": {},
   "outputs": [],
   "source": [
    "import pandas as pd\n",
    "import json\n",
    "import requests\n",
    "import numpy as np"
   ]
  },
  {
   "attachments": {},
   "cell_type": "markdown",
   "metadata": {},
   "source": [
    "## Read in My Personal Battle Data"
   ]
  },
  {
   "cell_type": "code",
   "execution_count": 51,
   "metadata": {},
   "outputs": [
    {
     "data": {
      "text/plain": [
       "327"
      ]
     },
     "execution_count": 51,
     "metadata": {},
     "output_type": "execute_result"
    }
   ],
   "source": [
    "battle_df = pd.read_csv('./../data/statink-super64guy.csv', index_col='id')\n",
    "len(battle_df.index)"
   ]
  },
  {
   "cell_type": "code",
   "execution_count": 52,
   "metadata": {},
   "outputs": [
    {
     "name": "stdout",
     "output_type": "stream",
     "text": [
      "0\n",
      "0\n",
      "0\n",
      "221\n",
      "0\n"
     ]
    }
   ],
   "source": [
    "print(battle_df['lobby'].isna().sum())\n",
    "print(battle_df['rule'].isna().sum())\n",
    "print(battle_df['stage'].isna().sum())\n",
    "print(battle_df['rank_before'].isna().sum())\n",
    "print(battle_df['game_version'].isna().sum())"
   ]
  },
  {
   "attachments": {},
   "cell_type": "markdown",
   "metadata": {},
   "source": [
    "## General Function to Pop Out JSON Data"
   ]
  },
  {
   "cell_type": "code",
   "execution_count": 53,
   "metadata": {},
   "outputs": [],
   "source": [
    "def pop_general_json_data(df, col_name):\n",
    "    for i in df.index:\n",
    "        df.loc[i, col_name] = eval(df[col_name][i])['name']['en_US']"
   ]
  },
  {
   "cell_type": "code",
   "execution_count": 54,
   "metadata": {},
   "outputs": [],
   "source": [
    "col_names = ['lobby', 'rule', 'stage', 'game_version']\n",
    "\n",
    "for name in col_names:\n",
    "    pop_general_json_data(battle_df, name)\n",
    "\n",
    "battle_df.to_csv('test.csv', index=True)"
   ]
  },
  {
   "attachments": {},
   "cell_type": "markdown",
   "metadata": {},
   "source": [
    "## Function for Popping Timestamps"
   ]
  },
  {
   "cell_type": "code",
   "execution_count": 55,
   "metadata": {},
   "outputs": [],
   "source": [
    "def pop_timestamp_json_data(df, col_name):\n",
    "    for i in df.index:\n",
    "        df.loc[i, col_name] = eval(df[col_name][i])['time']"
   ]
  },
  {
   "cell_type": "code",
   "execution_count": 56,
   "metadata": {},
   "outputs": [],
   "source": [
    "col_names = ['start_at', 'end_at']\n",
    "\n",
    "for name in col_names:\n",
    "    pop_timestamp_json_data(battle_df, name)\n",
    "\n",
    "battle_df.to_csv('test.csv', index=True)"
   ]
  },
  {
   "attachments": {},
   "cell_type": "markdown",
   "metadata": {},
   "source": [
    "## Function for Popping Weapons"
   ]
  },
  {
   "cell_type": "code",
   "execution_count": 57,
   "metadata": {},
   "outputs": [],
   "source": [
    "def pop_weapon_data(df):\n",
    "    main_list = []\n",
    "    sub_list = []\n",
    "    special_list = []\n",
    "    for i in df.index:\n",
    "        tmp_dict = eval(df.loc[i, 'weapon'])\n",
    "        main_list.append(tmp_dict['name']['en_US'])\n",
    "        sub_list.append(tmp_dict['sub']['name']['en_US'])\n",
    "        special_list.append(tmp_dict['special']['name']['en_US'])\n",
    "    if len(main_list) == len(sub_list) == len(special_list):\n",
    "        df['main_weapon'] = main_list\n",
    "        df['sub_weapon'] = sub_list\n",
    "        df['special_weapon'] = special_list\n",
    "\n",
    "pop_weapon_data(battle_df)\n",
    "battle_df.to_csv('test.csv', index=True)"
   ]
  },
  {
   "attachments": {},
   "cell_type": "markdown",
   "metadata": {},
   "source": [
    "## Update Rule to Remove Lobby"
   ]
  },
  {
   "cell_type": "code",
   "execution_count": 58,
   "metadata": {},
   "outputs": [
    {
     "data": {
      "text/plain": [
       "{'Anarchy Battle (Open)',\n",
       " 'Anarchy Battle (Series)',\n",
       " 'Private Battle',\n",
       " 'Regular Battle',\n",
       " 'Splatfest (Open)'}"
      ]
     },
     "execution_count": 58,
     "metadata": {},
     "output_type": "execute_result"
    }
   ],
   "source": [
    "set(battle_df['lobby'].to_list())"
   ]
  },
  {
   "cell_type": "code",
   "execution_count": 49,
   "metadata": {},
   "outputs": [],
   "source": [
    "def update_lobby(df):\n",
    "    for i in df.index:\n",
    "        if df['lobby'][i] == 'Regular Battle':\n",
    "            df.loc[i, 'rule'] = df['rule'][i] + ' (Regular)'\n",
    "        elif df['lobby'][i] == 'Anarchy Battle (Open)':\n",
    "            df.loc[i, 'rule'] = df['rule'][i] + ' (Open)'\n",
    "        elif df['lobby'][i] == 'Anarchy Battle (Series)':\n",
    "            df.loc[i, 'rule'] = df['rule'][i] + ' (Series)'\n",
    "        elif df['lobby'][i] == 'Private Battle':\n",
    "            df.loc[i, 'rule'] = df['rule'][i] + ' (Private)'\n",
    "        elif df['lobby'][i] == 'Splatfest (Open)' and df['rule'][i] != 'Tricolor Turf War':\n",
    "            df.loc[i, 'rule'] = df['rule'][i] + ' (Splatfest Open)'\n",
    "        elif df['lobby'][i] == 'Splatfest (Series)':\n",
    "            df.loc[i, 'rule'] = df['rule'][i] + ' (Splatfest Series)'\n",
    "\n",
    "update_lobby(battle_df)\n",
    "battle_df.to_csv('test.csv', index=True)"
   ]
  }
 ],
 "metadata": {
  "kernelspec": {
   "display_name": "base",
   "language": "python",
   "name": "python3"
  },
  "language_info": {
   "codemirror_mode": {
    "name": "ipython",
    "version": 3
   },
   "file_extension": ".py",
   "mimetype": "text/x-python",
   "name": "python",
   "nbconvert_exporter": "python",
   "pygments_lexer": "ipython3",
   "version": "3.9.12"
  },
  "orig_nbformat": 4,
  "vscode": {
   "interpreter": {
    "hash": "08849f8dffc3f27fb59cf06aefb79cb7a49147ad49564f36fdad5976b28849fb"
   }
  }
 },
 "nbformat": 4,
 "nbformat_minor": 2
}
