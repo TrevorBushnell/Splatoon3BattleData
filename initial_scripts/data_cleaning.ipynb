{
 "cells": [
  {
   "attachments": {},
   "cell_type": "markdown",
   "metadata": {},
   "source": [
    "# Data Cleaning Playground Notebook\n",
    "\n",
    "This notebook contains random code snippets, thoughts, and ideas for cleaning up the data related to my Splatoon 3 battle data.\n",
    "\n",
    "## Package Imports and Set Up"
   ]
  },
  {
   "cell_type": "code",
   "execution_count": 19,
   "metadata": {},
   "outputs": [],
   "source": [
    "import pandas as pd\n",
    "import json\n",
    "import requests"
   ]
  },
  {
   "attachments": {},
   "cell_type": "markdown",
   "metadata": {},
   "source": [
    "## Removing Duplicate Battles\n",
    "\n",
    "This can be done by parsing the battle indexes and then pulling from the website each battle individually\n",
    "\n",
    "> DO NOT RUN THE CODE SEGMENTS IN THIS SECTION"
   ]
  },
  {
   "cell_type": "code",
   "execution_count": 21,
   "metadata": {},
   "outputs": [
    {
     "name": "stdout",
     "output_type": "stream",
     "text": [
      "372\n"
     ]
    },
    {
     "name": "stderr",
     "output_type": "stream",
     "text": [
      "<ipython-input-21-6587812ea1b6>:12: FutureWarning: In a future version, object-dtype columns with all-bool values will not be included in reductions with bool_only=True. Explicitly cast to bool dtype instead.\n",
      "  battle_df = pd.concat([battle_df, df])\n",
      "<ipython-input-21-6587812ea1b6>:12: FutureWarning: In a future version, object-dtype columns with all-bool values will not be included in reductions with bool_only=True. Explicitly cast to bool dtype instead.\n",
      "  battle_df = pd.concat([battle_df, df])\n"
     ]
    },
    {
     "name": "stdout",
     "output_type": "stream",
     "text": [
      "272\n"
     ]
    }
   ],
   "source": [
    "tmp_df = pd.read_csv('./../data/statink-super64guy.csv', index_col='id')\n",
    "print(len(tmp_df.index))\n",
    "battle_df = pd.DataFrame()\n",
    "\n",
    "for i in tmp_df.index:\n",
    "    url = 'https://stat.ink/api/v3/battle/' + i\n",
    "    r = requests.get(url=url)\n",
    "    if r.status_code == 200:    \n",
    "        json_obj = json.loads(r.text)\n",
    "        df = pd.DataFrame.from_dict(json_obj, orient=\"index\").T\n",
    "        df.set_index('id', inplace=True)\n",
    "        battle_df = pd.concat([battle_df, df])\n",
    "\n",
    "print(len(battle_df.index))"
   ]
  },
  {
   "cell_type": "code",
   "execution_count": 22,
   "metadata": {},
   "outputs": [],
   "source": [
    "battle_df.to_csv('./../data/statink-super64guy.csv')"
   ]
  },
  {
   "attachments": {},
   "cell_type": "markdown",
   "metadata": {},
   "source": [
    "## Clean JSON Data\n",
    "\n",
    "### Cleaning Base JSON Data\n",
    "\n",
    "The following function will be used frequently to help with parsing the incorrectly formatted JSON objects that are littererd throughout the data."
   ]
  },
  {
   "cell_type": "code",
   "execution_count": 23,
   "metadata": {},
   "outputs": [
    {
     "data": {
      "text/plain": [
       "272"
      ]
     },
     "execution_count": 23,
     "metadata": {},
     "output_type": "execute_result"
    }
   ],
   "source": [
    "battle_df = pd.read_csv('./../data/statink-super64guy.csv', index_col='id')\n",
    "len(battle_df.index)"
   ]
  },
  {
   "cell_type": "code",
   "execution_count": 17,
   "metadata": {},
   "outputs": [],
   "source": [
    "def clean_json(json_str):\n",
    "    json_str = str(json_str)\n",
    "    return json.loads(json_str.replace(\"'\",\"\\\"\").replace(\"True\",\"true\").replace(\"False\",\"false\").replace(\"None\",\"null\"))"
   ]
  },
  {
   "attachments": {},
   "cell_type": "markdown",
   "metadata": {},
   "source": [
    "To see if this works, we can then try parsing the `our_team_members` column:"
   ]
  },
  {
   "cell_type": "code",
   "execution_count": 18,
   "metadata": {},
   "outputs": [
    {
     "data": {
      "text/plain": [
       "[{'me': False,\n",
       "  'rank_in_team': 1,\n",
       "  'name': None,\n",
       "  'number': None,\n",
       "  'splashtag_title': None,\n",
       "  'weapon': {'key': 'maneuver',\n",
       "   'aliases': ['splat_dualies', '5010'],\n",
       "   'type': {'key': 'maneuver',\n",
       "    'aliases': [],\n",
       "    'name': {'en_US': 'Dualies', 'ja_JP': 'マニューバー'}},\n",
       "   'name': {'en_US': 'Splat Dualies', 'ja_JP': 'スプラマニューバー'},\n",
       "   'main': 'maneuver',\n",
       "   'sub': {'key': 'kyubanbomb',\n",
       "    'aliases': [],\n",
       "    'name': {'en_US': 'Suction Bomb', 'ja_JP': 'キューバンボム'}},\n",
       "   'special': {'key': 'kanitank',\n",
       "    'aliases': [],\n",
       "    'name': {'en_US': 'Crab Tank', 'ja_JP': 'カニタンク'}},\n",
       "   'reskin_of': 'maneuver'},\n",
       "  'kill': 0,\n",
       "  'assist': 0,\n",
       "  'kill_or_assist': 0,\n",
       "  'death': 0,\n",
       "  'special': 0,\n",
       "  'signal': None,\n",
       "  'inked': 114,\n",
       "  'disconnected': False,\n",
       "  'crown': False,\n",
       "  'gears': {'headgear': {'primary_ability': {'key': 'swim_speed_up',\n",
       "     'name': {'en_US': 'Swim Speed Up', 'ja_JP': 'イカダッシュ速度アップ'},\n",
       "     'primary_only': False},\n",
       "    'secondary_abilities': [{'key': 'ink_recovery_up',\n",
       "      'name': {'en_US': 'Ink Recovery Up', 'ja_JP': 'インク回復力アップ'},\n",
       "      'primary_only': False}]},\n",
       "   'clothing': {'primary_ability': {'key': 'quick_respawn',\n",
       "     'name': {'en_US': 'Quick Respawn', 'ja_JP': '復活時間短縮'},\n",
       "     'primary_only': False},\n",
       "    'secondary_abilities': [{'key': 'swim_speed_up',\n",
       "      'name': {'en_US': 'Swim Speed Up', 'ja_JP': 'イカダッシュ速度アップ'},\n",
       "      'primary_only': False}]},\n",
       "   'shoes': {'primary_ability': {'key': 'run_speed_up',\n",
       "     'name': {'en_US': 'Run Speed Up', 'ja_JP': 'ヒト移動速度アップ'},\n",
       "     'primary_only': False},\n",
       "    'secondary_abilities': [{'key': 'swim_speed_up',\n",
       "      'name': {'en_US': 'Swim Speed Up', 'ja_JP': 'イカダッシュ速度アップ'},\n",
       "      'primary_only': False},\n",
       "     None]}}},\n",
       " {'me': True,\n",
       "  'rank_in_team': 2,\n",
       "  'name': 'super64guy',\n",
       "  'number': '5743',\n",
       "  'splashtag_title': 'Splatlandian Youth',\n",
       "  'weapon': {'key': '52gal',\n",
       "   'aliases': ['52_gal', '50'],\n",
       "   'type': {'key': 'shooter',\n",
       "    'aliases': [],\n",
       "    'name': {'en_US': 'Shooters', 'ja_JP': 'シューター'}},\n",
       "   'name': {'en_US': '.52 Gal', 'ja_JP': '.52ガロン'},\n",
       "   'main': '52gal',\n",
       "   'sub': {'key': 'splashshield',\n",
       "    'aliases': [],\n",
       "    'name': {'en_US': 'Splash Wall', 'ja_JP': 'スプラッシュシールド'}},\n",
       "   'special': {'key': 'megaphone51',\n",
       "    'aliases': [],\n",
       "    'name': {'en_US': 'Killer Wail 5.1', 'ja_JP': 'メガホンレーザー5.1ch'}},\n",
       "   'reskin_of': '52gal'},\n",
       "  'kill': 0,\n",
       "  'assist': 0,\n",
       "  'kill_or_assist': 0,\n",
       "  'death': 0,\n",
       "  'special': 0,\n",
       "  'signal': None,\n",
       "  'inked': 197,\n",
       "  'disconnected': False,\n",
       "  'crown': False,\n",
       "  'gears': {'headgear': {'primary_ability': {'key': 'sub_power_up',\n",
       "     'name': {'en_US': 'Sub Power Up', 'ja_JP': 'サブ性能アップ'},\n",
       "     'primary_only': False},\n",
       "    'secondary_abilities': [{'key': 'sub_power_up',\n",
       "      'name': {'en_US': 'Sub Power Up', 'ja_JP': 'サブ性能アップ'},\n",
       "      'primary_only': False},\n",
       "     None]},\n",
       "   'clothing': {'primary_ability': {'key': 'quick_respawn',\n",
       "     'name': {'en_US': 'Quick Respawn', 'ja_JP': '復活時間短縮'},\n",
       "     'primary_only': False},\n",
       "    'secondary_abilities': [{'key': 'ink_saver_sub',\n",
       "      'name': {'en_US': 'Ink Saver (Sub)', 'ja_JP': 'インク効率アップ(サブ)'},\n",
       "      'primary_only': False}]},\n",
       "   'shoes': {'primary_ability': {'key': 'ink_resistance_up',\n",
       "     'name': {'en_US': 'Ink Resistance Up', 'ja_JP': '相手インク影響軽減'},\n",
       "     'primary_only': False},\n",
       "    'secondary_abilities': [{'key': 'ink_saver_main',\n",
       "      'name': {'en_US': 'Ink Saver (Main)', 'ja_JP': 'インク効率アップ(メイン)'},\n",
       "      'primary_only': False},\n",
       "     None,\n",
       "     None]}}},\n",
       " {'me': False,\n",
       "  'rank_in_team': 3,\n",
       "  'name': None,\n",
       "  'number': None,\n",
       "  'splashtag_title': None,\n",
       "  'weapon': {'key': 'prime',\n",
       "   'aliases': ['splattershot_pro', '70'],\n",
       "   'type': {'key': 'shooter',\n",
       "    'aliases': [],\n",
       "    'name': {'en_US': 'Shooters', 'ja_JP': 'シューター'}},\n",
       "   'name': {'en_US': 'Splattershot Pro', 'ja_JP': 'プライムシューター'},\n",
       "   'main': 'prime',\n",
       "   'sub': {'key': 'linemarker',\n",
       "    'aliases': [],\n",
       "    'name': {'en_US': 'Angle Shooter', 'ja_JP': 'ラインマーカー'}},\n",
       "   'special': {'key': 'kanitank',\n",
       "    'aliases': [],\n",
       "    'name': {'en_US': 'Crab Tank', 'ja_JP': 'カニタンク'}},\n",
       "   'reskin_of': 'prime'},\n",
       "  'kill': 0,\n",
       "  'assist': 0,\n",
       "  'kill_or_assist': 0,\n",
       "  'death': 0,\n",
       "  'special': 0,\n",
       "  'signal': None,\n",
       "  'inked': 67,\n",
       "  'disconnected': False,\n",
       "  'crown': False,\n",
       "  'gears': {'headgear': {'primary_ability': {'key': 'run_speed_up',\n",
       "     'name': {'en_US': 'Run Speed Up', 'ja_JP': 'ヒト移動速度アップ'},\n",
       "     'primary_only': False},\n",
       "    'secondary_abilities': [{'key': 'ink_saver_main',\n",
       "      'name': {'en_US': 'Ink Saver (Main)', 'ja_JP': 'インク効率アップ(メイン)'},\n",
       "      'primary_only': False},\n",
       "     {'key': 'ink_saver_main',\n",
       "      'name': {'en_US': 'Ink Saver (Main)', 'ja_JP': 'インク効率アップ(メイン)'},\n",
       "      'primary_only': False}]},\n",
       "   'clothing': {'primary_ability': {'key': 'ability_doubler',\n",
       "     'name': {'en_US': 'Ability Doubler', 'ja_JP': '追加ギアパワー倍化'},\n",
       "     'primary_only': True},\n",
       "    'secondary_abilities': [{'key': 'ink_resistance_up',\n",
       "      'name': {'en_US': 'Ink Resistance Up', 'ja_JP': '相手インク影響軽減'},\n",
       "      'primary_only': False},\n",
       "     {'key': 'run_speed_up',\n",
       "      'name': {'en_US': 'Run Speed Up', 'ja_JP': 'ヒト移動速度アップ'},\n",
       "      'primary_only': False},\n",
       "     None]},\n",
       "   'shoes': {'primary_ability': {'key': 'special_power_up',\n",
       "     'name': {'en_US': 'Special Power Up', 'ja_JP': 'スペシャル性能アップ'},\n",
       "     'primary_only': False},\n",
       "    'secondary_abilities': [{'key': 'special_power_up',\n",
       "      'name': {'en_US': 'Special Power Up', 'ja_JP': 'スペシャル性能アップ'},\n",
       "      'primary_only': False},\n",
       "     {'key': 'special_charge_up',\n",
       "      'name': {'en_US': 'Special Charge Up', 'ja_JP': 'スペシャル増加量アップ'},\n",
       "      'primary_only': False}]}}},\n",
       " {'me': False,\n",
       "  'rank_in_team': 4,\n",
       "  'name': None,\n",
       "  'number': None,\n",
       "  'splashtag_title': None,\n",
       "  'weapon': {'key': 'kelvin525',\n",
       "   'aliases': ['glooga_dualies', '5020'],\n",
       "   'type': {'key': 'maneuver',\n",
       "    'aliases': [],\n",
       "    'name': {'en_US': 'Dualies', 'ja_JP': 'マニューバー'}},\n",
       "   'name': {'en_US': 'Glooga Dualies', 'ja_JP': 'ケルビン525'},\n",
       "   'main': 'kelvin525',\n",
       "   'sub': {'key': 'splashshield',\n",
       "    'aliases': [],\n",
       "    'name': {'en_US': 'Splash Wall', 'ja_JP': 'スプラッシュシールド'}},\n",
       "   'special': {'key': 'nicedama',\n",
       "    'aliases': [],\n",
       "    'name': {'en_US': 'Booyah Bomb', 'ja_JP': 'ナイスダマ'}},\n",
       "   'reskin_of': 'kelvin525'},\n",
       "  'kill': 0,\n",
       "  'assist': 0,\n",
       "  'kill_or_assist': 0,\n",
       "  'death': 1,\n",
       "  'special': 0,\n",
       "  'signal': None,\n",
       "  'inked': 77,\n",
       "  'disconnected': False,\n",
       "  'crown': False,\n",
       "  'gears': {'headgear': {'primary_ability': {'key': 'quick_respawn',\n",
       "     'name': {'en_US': 'Quick Respawn', 'ja_JP': '復活時間短縮'},\n",
       "     'primary_only': False},\n",
       "    'secondary_abilities': [{'key': 'ink_resistance_up',\n",
       "      'name': {'en_US': 'Ink Resistance Up', 'ja_JP': '相手インク影響軽減'},\n",
       "      'primary_only': False},\n",
       "     {'key': 'intensify_action',\n",
       "      'name': {'en_US': 'Intensify Action', 'ja_JP': 'アクション強化'},\n",
       "      'primary_only': False},\n",
       "     {'key': 'special_power_up',\n",
       "      'name': {'en_US': 'Special Power Up', 'ja_JP': 'スペシャル性能アップ'},\n",
       "      'primary_only': False}]},\n",
       "   'clothing': {'primary_ability': {'key': 'respawn_punisher',\n",
       "     'name': {'en_US': 'Respawn Punisher', 'ja_JP': '復活ペナルティアップ'},\n",
       "     'primary_only': True},\n",
       "    'secondary_abilities': [{'key': 'run_speed_up',\n",
       "      'name': {'en_US': 'Run Speed Up', 'ja_JP': 'ヒト移動速度アップ'},\n",
       "      'primary_only': False},\n",
       "     {'key': 'ink_recovery_up',\n",
       "      'name': {'en_US': 'Ink Recovery Up', 'ja_JP': 'インク回復力アップ'},\n",
       "      'primary_only': False},\n",
       "     {'key': 'ink_saver_sub',\n",
       "      'name': {'en_US': 'Ink Saver (Sub)', 'ja_JP': 'インク効率アップ(サブ)'},\n",
       "      'primary_only': False}]},\n",
       "   'shoes': {'primary_ability': {'key': 'ink_saver_main',\n",
       "     'name': {'en_US': 'Ink Saver (Main)', 'ja_JP': 'インク効率アップ(メイン)'},\n",
       "     'primary_only': False},\n",
       "    'secondary_abilities': [{'key': 'sub_resistance_up',\n",
       "      'name': {'en_US': 'Sub Resistance Up', 'ja_JP': 'サブ影響軽減'},\n",
       "      'primary_only': False},\n",
       "     {'key': 'ink_saver_main',\n",
       "      'name': {'en_US': 'Ink Saver (Main)', 'ja_JP': 'インク効率アップ(メイン)'},\n",
       "      'primary_only': False},\n",
       "     {'key': 'swim_speed_up',\n",
       "      'name': {'en_US': 'Swim Speed Up', 'ja_JP': 'イカダッシュ速度アップ'},\n",
       "      'primary_only': False}]}}}]"
      ]
     },
     "execution_count": 18,
     "metadata": {},
     "output_type": "execute_result"
    }
   ],
   "source": [
    "clean_json(battle_df['our_team_members']['496d4e23-b606-403e-bd9e-557fddb0a4ef'])"
   ]
  },
  {
   "attachments": {},
   "cell_type": "markdown",
   "metadata": {},
   "source": [
    "## Cleaning Single-Level JSON Objects\n",
    "\n",
    "The following function should be able to clean JSON from a single object:"
   ]
  },
  {
   "cell_type": "code",
   "execution_count": null,
   "metadata": {},
   "outputs": [],
   "source": [
    "def pop_json(json_str)"
   ]
  }
 ],
 "metadata": {
  "kernelspec": {
   "display_name": "base",
   "language": "python",
   "name": "python3"
  },
  "language_info": {
   "codemirror_mode": {
    "name": "ipython",
    "version": 3
   },
   "file_extension": ".py",
   "mimetype": "text/x-python",
   "name": "python",
   "nbconvert_exporter": "python",
   "pygments_lexer": "ipython3",
   "version": "3.9.12"
  },
  "orig_nbformat": 4,
  "vscode": {
   "interpreter": {
    "hash": "08849f8dffc3f27fb59cf06aefb79cb7a49147ad49564f36fdad5976b28849fb"
   }
  }
 },
 "nbformat": 4,
 "nbformat_minor": 2
}
