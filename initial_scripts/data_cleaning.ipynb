{
 "cells": [
  {
   "attachments": {},
   "cell_type": "markdown",
   "metadata": {},
   "source": [
    "# Data Cleaning Playground Notebook\n",
    "\n",
    "This notebook contains random code snippets, thoughts, and ideas for cleaning up the data related to my Splatoon 3 battle data.\n",
    "\n",
    "## Package Imports and Set Up"
   ]
  },
  {
   "cell_type": "code",
   "execution_count": 2,
   "metadata": {},
   "outputs": [],
   "source": [
    "import pandas as pd\n",
    "import json\n",
    "\n",
    "battle_df = pd.read_csv('./../data/statink-super64guy.csv', index_col = 'id')\n",
    "salmon_df = pd.read_csv('./../data/statink-super64guy-salmonrun.csv', index_col = 'id')"
   ]
  },
  {
   "attachments": {},
   "cell_type": "markdown",
   "metadata": {},
   "source": [
    "## Removing Duplicate Battles"
   ]
  },
  {
   "cell_type": "code",
   "execution_count": 7,
   "metadata": {},
   "outputs": [
    {
     "name": "stdout",
     "output_type": "stream",
     "text": [
      "<class 'str'>\n",
      "{\"time\": 1662699046, \"iso8601\": \"2022-09-09T04:50:46+00:00\"}\n"
     ]
    }
   ],
   "source": [
    "print(type(battle_df['start_at']['f1e7fb92-7141-40c8-b2ba-6bc6e7c50282'].replace(\"'\", \"\\\"\")))\n",
    "print(battle_df['start_at']['f1e7fb92-7141-40c8-b2ba-6bc6e7c50282'].replace(\"'\", \"\\\"\"))\n"
   ]
  },
  {
   "cell_type": "code",
   "execution_count": 22,
   "metadata": {},
   "outputs": [
    {
     "name": "stdout",
     "output_type": "stream",
     "text": [
      "LENGTH OF ORIGINAL DF: 257\n",
      "LENGTH WITH DUPLICATES REMOVED: 257\n"
     ]
    }
   ],
   "source": [
    "# set up a dictionary matching timestamps to battle_ids\n",
    "print('LENGTH OF ORIGINAL DF:', len(battle_df.index))\n",
    "tmp_values = []\n",
    "remove_values = []\n",
    "\n",
    "for i in battle_df.index:\n",
    "    tmp = json.loads(battle_df['start_at'][i].replace(\"'\", \"\\\"\"))['time']\n",
    "    if tmp not in tmp_values:\n",
    "        tmp_values.append(tmp)\n",
    "    else:\n",
    "        battle_df.drop(labels=i, axis=0, inplace=True)\n",
    "\n",
    "print('LENGTH WITH DUPLICATES REMOVED:', len(battle_df.index))\n",
    "\n",
    "battle_df.to_csv('./../data/statink-super64guy.csv')"
   ]
  }
 ],
 "metadata": {
  "kernelspec": {
   "display_name": "base",
   "language": "python",
   "name": "python3"
  },
  "language_info": {
   "codemirror_mode": {
    "name": "ipython",
    "version": 3
   },
   "file_extension": ".py",
   "mimetype": "text/x-python",
   "name": "python",
   "nbconvert_exporter": "python",
   "pygments_lexer": "ipython3",
   "version": "3.9.12"
  },
  "orig_nbformat": 4,
  "vscode": {
   "interpreter": {
    "hash": "08849f8dffc3f27fb59cf06aefb79cb7a49147ad49564f36fdad5976b28849fb"
   }
  }
 },
 "nbformat": 4,
 "nbformat_minor": 2
}
