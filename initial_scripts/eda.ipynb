{
 "cells": [
  {
   "cell_type": "code",
   "execution_count": 1,
   "metadata": {},
   "outputs": [],
   "source": [
    "import pandas as pd\n",
    "import matplotlib.pyplot as plt"
   ]
  },
  {
   "attachments": {},
   "cell_type": "markdown",
   "metadata": {},
   "source": [
    "# Read in the Dataset"
   ]
  },
  {
   "cell_type": "code",
   "execution_count": 2,
   "metadata": {},
   "outputs": [],
   "source": [
    "battle_df = pd.read_csv('./../data/statink-super64guy.csv', index_col='id')"
   ]
  },
  {
   "attachments": {},
   "cell_type": "markdown",
   "metadata": {},
   "source": [
    "# Getting the Main Webpage Statistics"
   ]
  },
  {
   "cell_type": "code",
   "execution_count": 3,
   "metadata": {},
   "outputs": [
    {
     "name": "stdout",
     "output_type": "stream",
     "text": [
      "TOTAL BATTLES: 327\n",
      "WIN %: 0.43119266055045874\n",
      "AVERAGE KILLS: 4.156923076923077\n",
      "AVERAGE DEATHS: 4.9569230769230765\n",
      "AVERAGE KD RATIO 0.8386095592799504\n",
      "AVERAGE ASSISTS: 0.916923076923077\n",
      "AVERAGE SPECIALS: 1.8123076923076924\n",
      "AEVERAGE INKED (PTS): 808.4831804281346\n"
     ]
    }
   ],
   "source": [
    "print('TOTAL BATTLES:', len(battle_df.index))\n",
    "print('WIN %:', len(battle_df[battle_df['result'] == 'win'])/len(battle_df.index))\n",
    "print('AVERAGE KILLS:', battle_df['kill'].mean())\n",
    "print('AVERAGE DEATHS:', battle_df['death'].mean())\n",
    "print('AVERAGE KD RATIO', battle_df['kill'].mean()/battle_df['death'].mean())\n",
    "print('AVERAGE ASSISTS:', battle_df['assist'].mean())\n",
    "print('AVERAGE SPECIALS:', battle_df['special'].mean())\n",
    "print('AEVERAGE INKED (PTS):', battle_df['inked'].mean())"
   ]
  },
  {
   "cell_type": "code",
   "execution_count": 5,
   "metadata": {},
   "outputs": [
    {
     "data": {
      "text/plain": [
       "pandas.core.series.Series"
      ]
     },
     "execution_count": 5,
     "metadata": {},
     "output_type": "execute_result"
    }
   ],
   "source": [
    "type(battle_df['rank_in_team'].value_counts())"
   ]
  }
 ],
 "metadata": {
  "kernelspec": {
   "display_name": "base",
   "language": "python",
   "name": "python3"
  },
  "language_info": {
   "codemirror_mode": {
    "name": "ipython",
    "version": 3
   },
   "file_extension": ".py",
   "mimetype": "text/x-python",
   "name": "python",
   "nbconvert_exporter": "python",
   "pygments_lexer": "ipython3",
   "version": "3.9.12"
  },
  "orig_nbformat": 4
 },
 "nbformat": 4,
 "nbformat_minor": 2
}
