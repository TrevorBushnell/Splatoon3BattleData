{
 "cells": [
  {
   "attachments": {},
   "cell_type": "markdown",
   "metadata": {},
   "source": [
    "# Data Cleaning Playground Notebook\n",
    "\n",
    "This notebook contains random code snippets, thoughts, and ideas for cleaning up the data related to my Splatoon 3 battle data.\n",
    "\n",
    "## Package Imports and Set Up"
   ]
  },
  {
   "cell_type": "code",
   "execution_count": 8,
   "metadata": {},
   "outputs": [],
   "source": [
    "import pandas as pd\n",
    "import json\n",
    "import requests\n",
    "import numpy as np"
   ]
  },
  {
   "attachments": {},
   "cell_type": "markdown",
   "metadata": {},
   "source": [
    "## Read in My Personal Battle Data"
   ]
  },
  {
   "cell_type": "code",
   "execution_count": 51,
   "metadata": {},
   "outputs": [
    {
     "data": {
      "text/plain": [
       "327"
      ]
     },
     "execution_count": 51,
     "metadata": {},
     "output_type": "execute_result"
    }
   ],
   "source": [
    "battle_df = pd.read_csv('./../data/statink-super64guy.csv', index_col='id')\n",
    "len(battle_df.index)"
   ]
  },
  {
   "cell_type": "code",
   "execution_count": 52,
   "metadata": {},
   "outputs": [
    {
     "name": "stdout",
     "output_type": "stream",
     "text": [
      "0\n",
      "0\n",
      "0\n",
      "221\n",
      "0\n"
     ]
    }
   ],
   "source": [
    "print(battle_df['lobby'].isna().sum())\n",
    "print(battle_df['rule'].isna().sum())\n",
    "print(battle_df['stage'].isna().sum())\n",
    "print(battle_df['rank_before'].isna().sum())\n",
    "print(battle_df['game_version'].isna().sum())"
   ]
  },
  {
   "attachments": {},
   "cell_type": "markdown",
   "metadata": {},
   "source": [
    "## General Function to Pop Out JSON Data"
   ]
  },
  {
   "cell_type": "code",
   "execution_count": 10,
   "metadata": {},
   "outputs": [],
   "source": [
    "def pop_general_json_data(df, col_name):\n",
    "    for i in df.index:\n",
    "        if type(df[col_name][i]) == str:\n",
    "            df.loc[i, col_name] = eval(df[col_name][i])['name']['en_US']"
   ]
  },
  {
   "cell_type": "code",
   "execution_count": 54,
   "metadata": {},
   "outputs": [],
   "source": [
    "col_names = ['lobby', 'rule', 'stage', 'game_version']\n",
    "\n",
    "for name in col_names:\n",
    "    pop_general_json_data(battle_df, name)\n",
    "\n",
    "battle_df.to_csv('test.csv', index=True)"
   ]
  },
  {
   "attachments": {},
   "cell_type": "markdown",
   "metadata": {},
   "source": [
    "## Function for Popping Timestamps"
   ]
  },
  {
   "cell_type": "code",
   "execution_count": 8,
   "metadata": {},
   "outputs": [],
   "source": [
    "def pop_timestamp_json_data(df, col_name):\n",
    "    for i in df.index:\n",
    "        df.loc[i, col_name] = eval(df[col_name][i])['time']"
   ]
  },
  {
   "cell_type": "code",
   "execution_count": 56,
   "metadata": {},
   "outputs": [],
   "source": [
    "col_names = ['start_at', 'end_at']\n",
    "\n",
    "for name in col_names:\n",
    "    pop_timestamp_json_data(battle_df, name)\n",
    "\n",
    "battle_df.to_csv('test.csv', index=True)"
   ]
  },
  {
   "attachments": {},
   "cell_type": "markdown",
   "metadata": {},
   "source": [
    "## Function for Popping Weapons"
   ]
  },
  {
   "cell_type": "code",
   "execution_count": 57,
   "metadata": {},
   "outputs": [],
   "source": [
    "def pop_weapon_data(df):\n",
    "    main_list = []\n",
    "    sub_list = []\n",
    "    special_list = []\n",
    "    for i in df.index:\n",
    "        tmp_dict = eval(df.loc[i, 'weapon'])\n",
    "        main_list.append(tmp_dict['name']['en_US'])\n",
    "        sub_list.append(tmp_dict['sub']['name']['en_US'])\n",
    "        special_list.append(tmp_dict['special']['name']['en_US'])\n",
    "    if len(main_list) == len(sub_list) == len(special_list):\n",
    "        df['main_weapon'] = main_list\n",
    "        df['sub_weapon'] = sub_list\n",
    "        df['special_weapon'] = special_list\n",
    "\n",
    "pop_weapon_data(battle_df)\n",
    "battle_df.to_csv('test.csv', index=True)"
   ]
  },
  {
   "attachments": {},
   "cell_type": "markdown",
   "metadata": {},
   "source": [
    "## Update Rule to Remove Lobby"
   ]
  },
  {
   "cell_type": "code",
   "execution_count": 58,
   "metadata": {},
   "outputs": [
    {
     "data": {
      "text/plain": [
       "{'Anarchy Battle (Open)',\n",
       " 'Anarchy Battle (Series)',\n",
       " 'Private Battle',\n",
       " 'Regular Battle',\n",
       " 'Splatfest (Open)'}"
      ]
     },
     "execution_count": 58,
     "metadata": {},
     "output_type": "execute_result"
    }
   ],
   "source": [
    "set(battle_df['lobby'].to_list())"
   ]
  },
  {
   "cell_type": "code",
   "execution_count": 49,
   "metadata": {},
   "outputs": [],
   "source": [
    "def update_lobby(df):\n",
    "    for i in df.index:\n",
    "        if df['lobby'][i] == 'Regular Battle':\n",
    "            df.loc[i, 'rule'] = df['rule'][i] + ' (Regular)'\n",
    "        elif df['lobby'][i] == 'Anarchy Battle (Open)':\n",
    "            df.loc[i, 'rule'] = df['rule'][i] + ' (Open)'\n",
    "        elif df['lobby'][i] == 'Anarchy Battle (Series)':\n",
    "            df.loc[i, 'rule'] = df['rule'][i] + ' (Series)'\n",
    "        elif df['lobby'][i] == 'Private Battle':\n",
    "            df.loc[i, 'rule'] = df['rule'][i] + ' (Private)'\n",
    "        elif df['lobby'][i] == 'Splatfest (Open)' and df['rule'][i] != 'Tricolor Turf War':\n",
    "            df.loc[i, 'rule'] = df['rule'][i] + ' (Splatfest Open)'\n",
    "        elif df['lobby'][i] == 'Splatfest (Series)':\n",
    "            df.loc[i, 'rule'] = df['rule'][i] + ' (Splatfest Series)'\n",
    "\n",
    "update_lobby(battle_df)\n",
    "battle_df.to_csv('test.csv', index=True)"
   ]
  },
  {
   "attachments": {},
   "cell_type": "markdown",
   "metadata": {},
   "source": [
    "## Data Cleaning for Salmon Run\n",
    "\n",
    "Many of the same functions that have already been written can also be used to clean the salmon run data as well. We can see the effects of this with the following code cell:"
   ]
  },
  {
   "cell_type": "code",
   "execution_count": 6,
   "metadata": {},
   "outputs": [
    {
     "name": "stdout",
     "output_type": "stream",
     "text": [
      "{'key': 'wipe_out', 'name': {'en_US': 'Wipe out', 'ja_JP': '全滅'}}\n",
      "<class 'str'>\n",
      "True\n"
     ]
    }
   ],
   "source": [
    "import pandas as pd\n",
    "\n",
    "salmonrun_df = pd.read_csv('./../data/statink-super64guy-salmonrun.csv', index_col='id')\n",
    "print(salmonrun_df['fail_reason']['d83dd9d7-a4ae-46d9-a34c-1835fe3c0f89'])\n",
    "print(type(salmonrun_df['fail_reason']['d83dd9d7-a4ae-46d9-a34c-1835fe3c0f89']))\n",
    "print(type(salmonrun_df['fail_reason']['d83dd9d7-a4ae-46d9-a34c-1835fe3c0f89']) == str)"
   ]
  },
  {
   "cell_type": "code",
   "execution_count": 9,
   "metadata": {},
   "outputs": [],
   "source": [
    "pop_timestamp_json_data(salmonrun_df, 'created_at')\n",
    "pop_timestamp_json_data(salmonrun_df, 'start_at')"
   ]
  },
  {
   "cell_type": "code",
   "execution_count": 11,
   "metadata": {},
   "outputs": [],
   "source": [
    "cols = ['game_version', 'fail_reason', 'king_salmonid', 'stage', 'title_before', 'title_after']\n",
    "for col in cols:\n",
    "    pop_general_json_data(salmonrun_df, col)"
   ]
  },
  {
   "cell_type": "code",
   "execution_count": 12,
   "metadata": {},
   "outputs": [],
   "source": [
    "salmonrun_df.to_csv('test_salmon.csv', index=True)"
   ]
  },
  {
   "attachments": {},
   "cell_type": "markdown",
   "metadata": {},
   "source": [
    "### Salmon Run: Navigating Player Processing\n",
    "\n",
    "* This function is being used to parse out the information regarding player information in salmon run\n",
    "* My thought it to create a dictionary mapping all the values needed, then appending it to the already existing dataframe"
   ]
  },
  {
   "cell_type": "code",
   "execution_count": 23,
   "metadata": {},
   "outputs": [
    {
     "name": "stdout",
     "output_type": "stream",
     "text": [
      "{'p1': {'is_me': [False, False, False, False, False, False, False, False, False, False, False, False, False, False, False, False, False, False, False, False, False, False, False, False, False, False, False, False, False, False, False, False, False, False, False, False, False, False, False, False, False, False, False, False, False, False, False, False, False, False, False, False, False, False, False, False, False, False, False, False, False, False, False, False, False, False, False, False, False, False, False, False, False, False, False, False, False, False, False, False, False, False, False, False, False, False, False, False, False, False, False, False, False, False, False, False, False, False, False, False, False, False, False, False, False, False, False, False, False, False, False, False, False, False, False, False, False, False, False, False, False, False, False, False, False, False, False, False, False, False, False, False, False, False, False, False, False, False, False, False, False, False], 'golden_eggs': [29, 9, 1, 7, 25, 19, 17, 15, 18, 11, 26, 17, 3, 15, 4, 12, 23, 16, 5, 5, 17, 24, 11, 8, 23, 7, 0, 19, 1, 11, 15, 22, 7, 20, 2, 0, 14, 15, 18, 18, 16, 12, 6, 16, 6, 10, 11, 11, 13, 18, 9, 14, 14, 17, 25, 9, 1, 7, 9, 5, 12, 19, 9, 26, 24, 13, 8, 19, 7, 11, 10, 15, 12, 9, 0, 13, 9, 4, 14, 3, 8, 5, 0, 8, 3, 18, 5, 18, 17, 19, 1, 26, 24, 40, 14, 19, 15, 13, 7, 8, 20, 8, 6, 11, 13, 6, 7, 6, 4, 17, 14, 11, 7, 6, 3, 1, 24, 20, 15, 17, 10, 1, 12, 17, 12, 13, 15, 17, 11, 2, 8, 12, 11, 7, 5, 4, 3, 11, 6, 1, 9, 17], 'golden_assists': [0, 4, 0, 1, 0, 3, 0, 2, 1, 1, 0, 0, 6, 2, 1, 2, 0, 2, 1, 0, 0, 3, 0, 4, 4, 0, 0, 2, 0, 2, 1, 2, 1, 0, 0, 0, 0, 0, 6, 5, 3, 1, 0, 0, 0, 1, 0, 7, 2, 0, 9, 7, 0, 4, 4, 0, 0, 0, 2, 3, 0, 0, 0, 5, 3, 0, 0, 0, 2, 1, 21, 0, 4, 3, 0, 1, 2, 1, 0, 0, 0, 0, 1, 0, 0, 2, 0, 1, 1, 1, 1, 6, 2, 1, 2, 0, 3, 1, 1, 2, 0, 0, 0, 1, 0, 0, 1, 0, 3, 0, 1, 0, 0, 1, 0, 0, 0, 1, 0, 1, 3, 0, 0, 0, 0, 2, 0, 1, 0, 0, 3, 1, 0, 1, 1, 0, 0, 0, 0, 2, 0, 1], 'power_eggs': [1170, 463, 152, 235, 769, 781, 831, 714, 855, 261, 956, 961, 894, 435, 249, 652, 1039, 611, 678, 136, 834, 1005, 574, 551, 996, 383, 0, 566, 44, 1129, 995, 623, 561, 484, 343, 0, 801, 571, 685, 854, 431, 476, 659, 552, 269, 274, 263, 569, 424, 419, 635, 689, 1201, 603, 807, 201, 376, 72, 203, 293, 269, 590, 572, 730, 624, 936, 425, 549, 128, 253, 488, 572, 490, 365, 0, 618, 390, 51, 290, 45, 270, 112, 105, 234, 108, 555, 295, 425, 807, 414, 45, 422, 626, 644, 553, 372, 356, 527, 673, 432, 621, 699, 494, 453, 505, 345, 321, 652, 682, 602, 263, 405, 114, 100, 262, 12, 853, 597, 694, 494, 707, 81, 709, 468, 548, 518, 539, 709, 358, 268, 576, 368, 476, 229, 283, 480, 260, 261, 219, 85, 637, 450], 'rescues': [6, 5, 1, 2, 3, 7, 4, 3, 5, 3, 1, 6, 3, 4, 1, 1, 6, 5, 5, 2, 2, 9, 4, 6, 3, 3, 0, 5, 0, 10, 4, 3, 2, 2, 7, 0, 1, 3, 6, 1, 4, 5, 4, 0, 1, 1, 2, 2, 6, 5, 0, 3, 6, 2, 4, 0, 1, 0, 0, 3, 3, 2, 0, 3, 5, 3, 3, 0, 0, 1, 3, 2, 3, 4, 0, 2, 2, 1, 3, 0, 3, 0, 2, 1, 3, 8, 5, 6, 4, 4, 1, 5, 0, 1, 1, 1, 10, 3, 1, 1, 0, 3, 6, 4, 3, 0, 1, 1, 4, 2, 3, 4, 0, 1, 3, 0, 4, 3, 1, 3, 4, 3, 3, 1, 4, 4, 4, 0, 0, 1, 4, 0, 3, 4, 0, 0, 0, 1, 0, 1, 2, 3], 'rescued': [2, 2, 1, 4, 0, 3, 2, 3, 2, 1, 4, 4, 5, 6, 2, 0, 5, 4, 1, 3, 4, 8, 1, 1, 0, 3, 0, 3, 1, 5, 1, 5, 0, 5, 2, 0, 2, 3, 4, 2, 1, 3, 4, 2, 4, 4, 3, 1, 2, 4, 4, 6, 4, 4, 1, 3, 1, 1, 2, 1, 2, 3, 4, 2, 4, 6, 3, 4, 0, 2, 2, 2, 5, 3, 0, 4, 2, 1, 3, 1, 4, 0, 2, 1, 1, 4, 1, 1, 6, 7, 1, 1, 1, 2, 2, 1, 0, 6, 0, 1, 0, 4, 5, 0, 5, 1, 1, 7, 2, 1, 6, 2, 1, 1, 0, 0, 1, 2, 3, 3, 6, 1, 1, 1, 0, 2, 3, 1, 1, 0, 2, 1, 2, 0, 1, 0, 2, 6, 3, 0, 2, 6], 'boss_kills': [13, 7, 2, 2, 8, 17, 19, 6, 8, 3, 8, 7, 7, 6, 3, 9, 4, 8, 9, 0, 6, 11, 6, 9, 12, 1, 0, 3, 0, 3, 10, 10, 2, 3, 2, 0, 9, 5, 9, 5, 9, 9, 1, 9, 1, 2, 4, 10, 10, 4, 7, 10, 12, 6, 12, 2, 4, 1, 1, 4, 4, 9, 1, 12, 11, 4, 2, 4, 3, 6, 1, 2, 4, 6, 0, 10, 2, 0, 1, 1, 2, 1, 0, 9, 0, 8, 4, 2, 4, 2, 0, 15, 7, 3, 4, 4, 13, 11, 5, 3, 2, 2, 3, 3, 5, 0, 3, 0, 2, 3, 3, 5, 4, 3, 0, 0, 15, 6, 9, 4, 9, 0, 7, 3, 5, 4, 3, 6, 6, 0, 3, 2, 3, 2, 4, 4, 2, 2, 3, 1, 6, 10]}, 'p2': {'is_me': [False, False, False, False, False, False, False, False, False, False, False, False, False, False, False, False, False, False, False, False, False, False, False, False, False, False, False, False, False, False, False, False, False, False, False, False, False, False, False, False, False, False, False, False, False, False, False, False, False, False, False, False, False, False, False, False, False, False, False, False, False, False, False, False, False, False, False, False, False, False, False, False, False, False, False, False, False, False, False, False, False, False, False, False, False, False, False, False, False, False, False, False, False, False, False, False, False, False, False, False, False, False, False, False, False, False, False, False, False, False, False, False, False, False, False, False, False, False, False, False, False, False, False, False, False, False, False, False, False, False, False, False, False, False, False, False, False, False, False, False, False, False], 'golden_eggs': [18, 13, 0, 11, 14, 23, 17, 15, 34, 15, 13, 32, 7, 14, 2, 2, 23, 23, 3, 3, 12, 27, 13, 10, 25, 13, 0, 15, 2, 24, 27, 17, 12, 8, 2, 0, 17, 17, 16, 24, 15, 6, 17, 16, 21, 8, 6, 25, 19, 7, 25, 18, 8, 13, 23, 5, 5, 2, 5, 6, 7, 21, 15, 15, 22, 12, 13, 16, 5, 9, 33, 19, 21, 23, 0, 18, 8, 2, 10, 4, 10, 0, 2, 14, 5, 29, 14, 19, 23, 20, 4, 22, 21, 11, 17, 12, 20, 17, 9, 11, 24, 14, 16, 15, 11, 7, 8, 20, 13, 19, 5, 7, 7, 10, 3, 3, 13, 11, 14, 10, 11, 2, 16, 12, 9, 5, 9, 13, 11, 2, 15, 14, 5, 9, 4, 9, 9, 5, 8, 6, 12, 9], 'golden_assists': [0, 4, 0, 1, 0, 0, 1, 2, 3, 0, 4, 1, 5, 1, 0, 7, 1, 7, 0, 0, 2, 3, 3, 0, 2, 0, 0, 7, 0, 4, 3, 2, 0, 10, 0, 0, 0, 3, 0, 3, 0, 2, 4, 0, 3, 0, 7, 0, 0, 2, 0, 1, 9, 3, 0, 3, 0, 0, 4, 3, 0, 0, 1, 2, 0, 0, 0, 1, 0, 1, 0, 5, 0, 1, 0, 0, 1, 2, 4, 0, 1, 0, 0, 4, 0, 3, 3, 0, 1, 4, 0, 0, 3, 4, 3, 4, 1, 1, 0, 0, 1, 0, 0, 0, 0, 0, 3, 2, 1, 4, 0, 0, 0, 0, 0, 0, 4, 0, 5, 0, 1, 0, 4, 7, 4, 1, 0, 0, 0, 0, 3, 2, 2, 1, 0, 1, 0, 3, 0, 0, 2, 0], 'power_eggs': [710, 315, 0, 563, 708, 801, 981, 857, 860, 423, 1638, 986, 833, 737, 155, 408, 1196, 630, 169, 190, 842, 794, 639, 405, 671, 315, 0, 574, 80, 1116, 1086, 515, 379, 485, 116, 0, 1052, 780, 461, 869, 410, 464, 386, 338, 444, 457, 623, 233, 401, 363, 467, 590, 805, 743, 583, 325, 153, 195, 408, 336, 333, 379, 695, 797, 537, 943, 571, 1300, 193, 227, 309, 512, 467, 285, 0, 543, 601, 145, 443, 130, 336, 69, 139, 237, 175, 706, 366, 395, 784, 797, 82, 610, 430, 838, 788, 313, 423, 433, 273, 378, 527, 344, 500, 495, 309, 328, 306, 1021, 326, 294, 576, 348, 221, 202, 109, 145, 615, 707, 419, 417, 435, 85, 929, 506, 549, 504, 396, 1023, 608, 210, 404, 285, 172, 591, 525, 359, 301, 317, 341, 101, 354, 535], 'rescues': [4, 1, 0, 5, 2, 1, 1, 3, 9, 1, 8, 3, 7, 11, 3, 2, 6, 6, 0, 3, 6, 9, 2, 0, 4, 4, 0, 3, 1, 4, 2, 3, 1, 3, 1, 0, 5, 5, 4, 4, 0, 3, 1, 2, 4, 5, 3, 0, 3, 6, 0, 6, 5, 9, 1, 0, 2, 0, 1, 1, 3, 2, 5, 5, 3, 6, 5, 10, 0, 3, 2, 1, 5, 1, 0, 3, 2, 1, 1, 2, 2, 0, 1, 1, 0, 4, 1, 2, 6, 6, 0, 1, 2, 1, 9, 0, 1, 2, 0, 2, 2, 7, 7, 2, 4, 0, 0, 9, 1, 0, 2, 0, 0, 1, 0, 1, 2, 3, 2, 1, 3, 2, 4, 2, 1, 1, 1, 1, 0, 1, 3, 1, 1, 0, 3, 0, 6, 5, 1, 1, 6, 2], 'rescued': [6, 2, 0, 3, 8, 2, 4, 4, 2, 3, 1, 3, 6, 6, 4, 6, 4, 6, 0, 2, 3, 6, 2, 3, 2, 4, 0, 3, 2, 3, 2, 2, 2, 2, 5, 0, 5, 2, 0, 3, 2, 4, 3, 2, 1, 3, 1, 4, 3, 5, 1, 4, 5, 1, 3, 2, 1, 1, 0, 2, 3, 4, 0, 1, 3, 6, 5, 2, 1, 1, 3, 0, 4, 2, 0, 3, 2, 1, 3, 0, 2, 1, 2, 0, 2, 7, 1, 4, 3, 4, 1, 2, 1, 0, 1, 2, 4, 4, 2, 2, 0, 2, 3, 6, 3, 1, 2, 0, 2, 1, 3, 2, 1, 0, 2, 2, 3, 6, 0, 3, 2, 2, 0, 1, 2, 5, 2, 1, 1, 0, 2, 0, 4, 1, 1, 1, 0, 0, 1, 0, 1, 2], 'boss_kills': [10, 7, 0, 5, 7, 8, 5, 11, 16, 8, 14, 11, 15, 13, 0, 6, 8, 11, 0, 4, 11, 10, 8, 3, 5, 2, 0, 9, 1, 13, 10, 6, 2, 10, 2, 0, 17, 7, 2, 10, 4, 2, 5, 1, 9, 5, 4, 4, 1, 1, 3, 3, 10, 8, 5, 2, 0, 4, 4, 5, 2, 7, 5, 10, 7, 9, 4, 9, 2, 3, 5, 6, 10, 2, 0, 8, 8, 2, 6, 1, 5, 0, 1, 5, 3, 12, 5, 9, 12, 10, 1, 5, 11, 2, 6, 2, 1, 4, 1, 5, 7, 7, 3, 3, 1, 0, 3, 9, 5, 5, 0, 3, 4, 1, 1, 3, 9, 2, 3, 2, 1, 1, 7, 3, 3, 6, 1, 5, 1, 0, 7, 4, 1, 1, 2, 3, 2, 4, 2, 2, 4, 1]}, 'p3': {'is_me': [False, False, False, False, False, False, False, False, False, False, False, False, False, False, False, False, False, False, False, False, False, False, False, False, False, False, False, False, False, False, False, False, False, False, False, False, False, False, False, False, False, False, False, False, False, False, False, False, False, False, False, False, False, False, False, False, False, False, False, False, False, False, False, False, False, False, False, False, False, False, False, False, False, False, False, False, False, False, False, False, False, False, False, False, False, False, False, False, False, False, False, False, False, False, False, False, False, False, False, False, False, False, False, False, False, False, False, False, False, False, False, False, False, False, False, False, False, False, False, False, False, False, False, False, False, False, False, False, False, False, False, False, False, False, False, False, False, False, False, False, False, False], 'golden_eggs': [24, 15, 1, 7, 39, 14, 17, 25, 15, 11, 24, 22, 23, 26, 5, 9, 12, 22, 7, 6, 9, 17, 14, 20, 27, 11, 0, 12, 2, 23, 17, 12, 0, 15, 0, 0, 22, 19, 11, 19, 10, 17, 7, 18, 18, 16, 9, 22, 18, 11, 15, 22, 17, 23, 16, 6, 1, 3, 10, 11, 9, 17, 10, 16, 16, 22, 16, 12, 4, 9, 13, 24, 8, 10, 0, 10, 17, 2, 15, 1, 12, 4, 6, 8, 2, 14, 11, 16, 6, 13, 2, 12, 15, 25, 10, 16, 15, 20, 9, 19, 13, 19, 11, 15, 15, 8, 4, 10, 6, 7, 7, 13, 7, 5, 4, 2, 7, 17, 16, 16, 13, 2, 8, 15, 11, 11, 7, 5, 9, 2, 9, 11, 8, 7, 6, 5, 3, 0, 12, 3, 11, 16], 'golden_assists': [1, 2, 0, 0, 7, 0, 1, 0, 0, 0, 3, 0, 3, 0, 0, 2, 2, 0, 0, 1, 2, 0, 0, 2, 0, 1, 0, 2, 0, 1, 3, 1, 0, 8, 0, 0, 2, 0, 4, 0, 3, 2, 0, 1, 3, 0, 0, 4, 0, 1, 5, 2, 0, 1, 22, 7, 0, 0, 0, 0, 2, 2, 0, 6, 9, 0, 3, 1, 0, 0, 9, 0, 2, 8, 0, 0, 0, 0, 2, 0, 2, 1, 0, 0, 1, 7, 0, 1, 1, 0, 0, 2, 2, 1, 5, 3, 0, 0, 0, 3, 0, 0, 0, 0, 3, 0, 0, 5, 1, 0, 0, 1, 0, 0, 0, 0, 1, 2, 0, 0, 1, 0, 0, 0, 0, 0, 0, 0, 0, 0, 0, 0, 0, 0, 0, 0, 0, 0, 1, 0, 0, 1], 'power_eggs': [467, 566, 145, 236, 1796, 772, 586, 723, 957, 569, 1216, 624, 683, 581, 266, 376, 558, 858, 472, 196, 1007, 819, 593, 594, 680, 294, 0, 894, 101, 1020, 662, 582, 0, 700, 0, 0, 981, 957, 688, 615, 514, 625, 1135, 423, 303, 387, 423, 415, 368, 844, 525, 501, 897, 382, 707, 333, 256, 70, 214, 236, 268, 429, 500, 523, 803, 1145, 404, 867, 180, 378, 470, 617, 1568, 301, 0, 378, 412, 24, 455, 214, 427, 92, 74, 227, 68, 884, 200, 340, 1659, 1615, 135, 361, 492, 312, 381, 302, 570, 474, 381, 210, 265, 525, 606, 641, 512, 262, 177, 408, 398, 1210, 718, 431, 212, 311, 143, 99, 833, 674, 972, 706, 462, 89, 329, 404, 656, 428, 501, 694, 591, 73, 557, 291, 560, 315, 351, 231, 115, 320, 316, 81, 461, 354], 'rescues': [7, 3, 1, 2, 8, 2, 3, 3, 1, 3, 4, 4, 4, 4, 3, 5, 1, 1, 2, 2, 8, 4, 0, 4, 1, 7, 0, 5, 1, 6, 1, 4, 0, 2, 0, 0, 6, 3, 1, 2, 1, 4, 4, 2, 4, 7, 0, 4, 2, 6, 4, 8, 5, 1, 5, 6, 3, 1, 2, 2, 2, 5, 3, 3, 6, 12, 3, 3, 1, 3, 1, 1, 5, 5, 0, 4, 2, 0, 2, 0, 3, 2, 1, 2, 2, 9, 1, 1, 4, 7, 3, 0, 0, 0, 1, 1, 0, 7, 2, 2, 0, 4, 5, 1, 6, 2, 3, 3, 2, 3, 9, 3, 1, 1, 0, 2, 2, 4, 2, 5, 2, 0, 0, 1, 0, 4, 1, 1, 0, 1, 4, 2, 5, 1, 0, 1, 0, 3, 4, 0, 0, 6], 'rescued': [7, 3, 1, 3, 3, 3, 1, 2, 5, 3, 2, 1, 3, 6, 2, 2, 5, 5, 4, 1, 1, 8, 4, 2, 2, 4, 0, 2, 2, 7, 2, 6, 0, 1, 0, 0, 4, 2, 4, 1, 1, 2, 2, 1, 4, 4, 1, 1, 3, 5, 0, 3, 6, 8, 1, 0, 1, 1, 1, 1, 3, 1, 3, 2, 3, 5, 3, 6, 0, 2, 0, 1, 4, 3, 0, 2, 1, 1, 3, 1, 2, 0, 1, 1, 1, 2, 2, 5, 5, 2, 1, 3, 1, 0, 6, 3, 5, 3, 0, 1, 1, 6, 8, 1, 3, 1, 1, 4, 4, 1, 2, 2, 0, 2, 0, 2, 4, 2, 1, 1, 5, 2, 3, 2, 2, 1, 1, 0, 0, 2, 3, 2, 2, 1, 2, 0, 4, 5, 1, 2, 4, 5], 'boss_kills': [10, 5, 2, 6, 30, 9, 9, 10, 6, 4, 5, 8, 7, 10, 6, 0, 8, 12, 5, 4, 9, 10, 7, 4, 9, 8, 0, 5, 0, 8, 10, 4, 0, 11, 0, 0, 11, 8, 7, 4, 6, 5, 9, 3, 12, 7, 5, 2, 8, 2, 12, 5, 4, 2, 8, 7, 2, 3, 4, 1, 6, 10, 2, 7, 12, 8, 10, 7, 1, 8, 2, 4, 5, 5, 0, 3, 3, 0, 3, 0, 5, 3, 1, 1, 1, 12, 2, 2, 16, 16, 3, 8, 9, 1, 3, 2, 4, 1, 5, 4, 0, 10, 8, 5, 4, 1, 3, 4, 2, 8, 4, 6, 1, 1, 3, 0, 3, 9, 7, 6, 6, 1, 2, 1, 4, 5, 2, 3, 5, 2, 4, 0, 4, 3, 1, 2, 0, 3, 3, 2, 4, 9]}, 'my': {'is_me': [True, True, True, True, True, True, True, True, True, True, True, True, True, True, True, True, True, True, True, True, True, True, True, True, True, True, True, True, True, True, True, True, True, True, True, True, True, True, True, True, True, True, True, True, True, True, True, True, True, True, True, True, True, True, True, True, True, True, True, True, True, True, True, True, True, True, True, True, True, True, True, True, True, True, True, True, True, True, True, True, True, True, True, True, True, True, True, True, True, True, True, True, True, True, True, True, True, True, True, True, True, True, True, True, True, True, True, True, True, True, True, True, True, True, True, True, True, True, True, True, True, True, True, True, True, True, True, True, True, True, True, True, True, True, True, True, True, True, True, True, True, True], 'golden_eggs': [19, 6, 0, 10, 18, 16, 23, 24, 21, 2, 20, 22, 21, 13, 4, 11, 17, 11, 11, 0, 10, 13, 12, 9, 21, 3, 0, 14, 2, 22, 22, 23, 9, 24, 1, 0, 39, 15, 23, 25, 20, 21, 17, 18, 12, 10, 7, 10, 10, 16, 22, 13, 26, 21, 19, 10, 3, 3, 17, 10, 7, 18, 13, 27, 21, 21, 16, 20, 4, 10, 7, 12, 17, 3, 0, 14, 22, 2, 17, 4, 13, 2, 3, 6, 1, 14, 5, 15, 24, 21, 1, 18, 18, 22, 22, 14, 16, 7, 8, 13, 12, 8, 10, 18, 13, 11, 7, 25, 10, 18, 20, 13, 7, 6, 2, 4, 19, 15, 18, 14, 11, 2, 13, 14, 9, 11, 14, 17, 10, 1, 13, 8, 12, 7, 12, 8, 4, 6, 9, 1, 11, 8], 'golden_assists': [6, 6, 0, 1, 3, 6, 1, 1, 0, 3, 8, 3, 7, 3, 4, 1, 7, 4, 0, 1, 0, 4, 0, 1, 2, 2, 0, 1, 0, 1, 4, 1, 3, 3, 0, 0, 1, 5, 2, 1, 3, 1, 0, 4, 6, 1, 2, 9, 2, 4, 6, 6, 3, 2, 16, 0, 0, 1, 2, 2, 2, 3, 2, 2, 7, 3, 0, 4, 2, 2, 24, 8, 2, 5, 0, 2, 2, 1, 8, 0, 0, 4, 0, 0, 4, 6, 1, 3, 1, 3, 0, 2, 6, 4, 1, 3, 4, 4, 4, 2, 2, 1, 0, 1, 0, 2, 2, 0, 4, 1, 2, 2, 1, 0, 0, 0, 3, 0, 0, 0, 0, 0, 0, 0, 0, 1, 0, 0, 0, 0, 0, 0, 0, 0, 0, 1, 0, 0, 0, 0, 1, 2], 'power_eggs': [860, 498, 109, 383, 1239, 550, 776, 894, 658, 276, 927, 811, 712, 721, 77, 566, 944, 652, 337, 228, 330, 781, 508, 343, 548, 382, 0, 939, 311, 1218, 736, 724, 473, 465, 85, 0, 984, 881, 505, 1052, 659, 509, 941, 664, 617, 483, 916, 563, 563, 511, 828, 468, 609, 445, 577, 198, 320, 208, 214, 254, 254, 422, 300, 420, 709, 1013, 604, 974, 101, 338, 495, 390, 336, 519, 0, 352, 470, 203, 514, 72, 327, 116, 100, 461, 155, 769, 392, 554, 976, 756, 60, 732, 934, 417, 425, 739, 542, 546, 283, 549, 542, 571, 548, 699, 502, 331, 279, 857, 384, 914, 503, 373, 240, 261, 166, 86, 659, 543, 741, 579, 731, 161, 703, 526, 452, 1025, 465, 797, 621, 186, 428, 581, 728, 563, 385, 441, 256, 525, 372, 145, 362, 581], 'rescues': [5, 3, 0, 6, 3, 0, 2, 5, 1, 2, 1, 1, 3, 5, 2, 2, 4, 6, 2, 1, 0, 8, 2, 0, 2, 1, 0, 0, 3, 3, 2, 6, 0, 3, 2, 0, 1, 0, 1, 1, 1, 1, 3, 2, 3, 3, 1, 2, 1, 0, 1, 2, 3, 5, 1, 0, 0, 2, 1, 0, 3, 1, 2, 0, 0, 3, 4, 3, 0, 1, 1, 1, 2, 2, 0, 3, 2, 1, 4, 1, 4, 0, 2, 0, 0, 0, 1, 3, 3, 1, 1, 1, 2, 1, 1, 5, 1, 2, 0, 0, 0, 4, 4, 2, 1, 1, 1, 2, 2, 0, 2, 1, 1, 1, 0, 2, 2, 3, 0, 1, 7, 1, 0, 0, 0, 2, 3, 1, 2, 0, 0, 1, 2, 0, 2, 0, 2, 4, 3, 1, 2, 5], 'rescued': [7, 5, 0, 5, 5, 2, 3, 5, 7, 2, 7, 6, 3, 6, 1, 2, 3, 3, 4, 2, 8, 8, 1, 4, 6, 4, 0, 5, 0, 8, 4, 3, 1, 2, 3, 0, 2, 4, 4, 2, 2, 4, 3, 1, 3, 5, 1, 2, 4, 3, 0, 6, 4, 4, 6, 1, 3, 0, 1, 2, 3, 2, 3, 6, 4, 7, 4, 4, 0, 3, 2, 2, 2, 4, 0, 3, 3, 0, 1, 1, 4, 1, 1, 2, 1, 8, 4, 2, 3, 5, 2, 1, 1, 1, 3, 1, 3, 1, 1, 1, 1, 6, 6, 2, 3, 0, 1, 4, 1, 2, 5, 2, 0, 1, 1, 1, 2, 3, 1, 3, 3, 1, 3, 0, 1, 3, 3, 1, 0, 1, 4, 1, 3, 3, 1, 0, 2, 2, 3, 1, 3, 3], 'boss_kills': [5, 3, 0, 3, 10, 9, 5, 9, 6, 5, 5, 4, 7, 7, 1, 2, 9, 5, 5, 1, 2, 6, 3, 5, 3, 5, 0, 5, 4, 10, 10, 6, 4, 8, 1, 0, 6, 7, 8, 12, 6, 9, 7, 4, 3, 4, 4, 7, 6, 8, 7, 4, 6, 3, 3, 1, 4, 2, 4, 5, 3, 5, 2, 5, 7, 5, 5, 7, 1, 4, 1, 7, 6, 3, 0, 2, 2, 2, 4, 3, 3, 2, 4, 2, 1, 8, 1, 1, 4, 5, 1, 5, 3, 1, 2, 5, 4, 2, 3, 5, 5, 3, 4, 3, 5, 0, 0, 10, 3, 5, 7, 4, 3, 2, 0, 0, 7, 2, 6, 7, 4, 1, 5, 6, 2, 4, 2, 4, 6, 1, 3, 2, 4, 1, 6, 4, 3, 1, 7, 0, 4, 4]}}\n"
     ]
    }
   ],
   "source": [
    "def pop_player_salmon_run_info(df):\n",
    "    cum_player_info = {'p1':{}, 'p2':{}, 'p3':{}, 'my':{}}\n",
    "\n",
    "    for i in df.index:\n",
    "        player_info_json = None\n",
    "        if type(df['players'][i]) == str:\n",
    "            player_info_json = eval(df['players'][i])\n",
    "        player_info_dict = {1:{}, 2:{}, 3:{}, 4:{}}\n",
    "        for i in range(4):\n",
    "            player_info_dict[i+1]['is_me'] = player_info_json[i]['me']\n",
    "            player_info_dict[i+1]['golden_eggs'] = player_info_json[i]['golden_eggs']\n",
    "            player_info_dict[i+1]['golden_assists'] = player_info_json[i]['golden_assist']\n",
    "            player_info_dict[i+1]['power_eggs'] = player_info_json[i]['power_eggs']\n",
    "            player_info_dict[i+1]['rescues'] = player_info_json[i]['rescue']\n",
    "            player_info_dict[i+1]['rescued'] = player_info_json[i]['rescued']\n",
    "            player_info_dict[i+1]['boss_kills'] = player_info_json[i]['defeat_boss']\n",
    "\n",
    "        # sort the dictionary\n",
    "        sorted_dict = dict(sorted(player_info_dict.items(), key=lambda x: x[1]['is_me']))\n",
    "        # print(sorted_dict)\n",
    "\n",
    "        count = 1\n",
    "        for i in sorted_dict.keys():\n",
    "            curr_dict = player_info_dict[i]\n",
    "            if curr_dict['is_me'] == True:\n",
    "                for key, value in curr_dict.items():\n",
    "                    if key not in cum_player_info['my']:\n",
    "                        cum_player_info['my'][key] = []\n",
    "                    cum_player_info['my'][key].append(value)\n",
    "            else:\n",
    "                # print(curr_dict)\n",
    "                for key, value in curr_dict.items():\n",
    "                    if key not in cum_player_info['p'+str(count)]:\n",
    "                        cum_player_info['p'+str(count)][key] = []\n",
    "                    cum_player_info['p'+str(count)][key].append(value)\n",
    "                count += 1\n",
    "    \n",
    "    # print(cum_player_info)\n",
    "    for i in cum_player_info.keys():\n",
    "        # print(i)\n",
    "        for key, value in cum_player_info[i].items():\n",
    "            df[i + '_' + key] = value\n",
    "\n",
    "    return df\n",
    "\n",
    "pop_player_salmon_run_info(salmonrun_df).to_csv('test_salmon.csv', index=True)"
   ]
  },
  {
   "cell_type": "code",
   "execution_count": 2,
   "metadata": {},
   "outputs": [
    {
     "name": "stdout",
     "output_type": "stream",
     "text": [
      "{'a': 'test'}\n",
      "{}\n"
     ]
    }
   ],
   "source": [
    "tmp_dict = {1:{}, 2:{}}\n",
    "tmp_dict[1]['a'] = 'test'\n",
    "\n",
    "for key in tmp_dict:\n",
    "    print(tmp_dict[key])"
   ]
  },
  {
   "cell_type": "code",
   "execution_count": 3,
   "metadata": {},
   "outputs": [
    {
     "data": {
      "text/plain": [
       "{3: {'test': False}, 1: {'test': True}, 2: {'test': True}}"
      ]
     },
     "execution_count": 3,
     "metadata": {},
     "output_type": "execute_result"
    }
   ],
   "source": [
    "tmp_dict = {1:{'test':True}, 2:{'test':True}, 3:{'test':False}}\n",
    "\n",
    "sorted_dict = dict(sorted(tmp_dict.items(), key=lambda x: x[1]['test']))\n",
    "sorted_dict"
   ]
  },
  {
   "attachments": {},
   "cell_type": "markdown",
   "metadata": {},
   "source": [
    "## Cleaning the Worldwide Data\n",
    "\n",
    "This code will now clean the worldwide data. There really isn't much cleaning that we have to do - mostly we just have to go through and update the keys with their English names"
   ]
  }
 ],
 "metadata": {
  "kernelspec": {
   "display_name": "base",
   "language": "python",
   "name": "python3"
  },
  "language_info": {
   "codemirror_mode": {
    "name": "ipython",
    "version": 3
   },
   "file_extension": ".py",
   "mimetype": "text/x-python",
   "name": "python",
   "nbconvert_exporter": "python",
   "pygments_lexer": "ipython3",
   "version": "3.9.12"
  },
  "orig_nbformat": 4,
  "vscode": {
   "interpreter": {
    "hash": "08849f8dffc3f27fb59cf06aefb79cb7a49147ad49564f36fdad5976b28849fb"
   }
  }
 },
 "nbformat": 4,
 "nbformat_minor": 2
}
